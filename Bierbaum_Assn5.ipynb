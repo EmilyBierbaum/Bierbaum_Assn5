{
 "cells": [
  {
   "cell_type": "markdown",
   "metadata": {},
   "source": [
    "# Emily L. Bierbaum Assignment 5\n",
    "## Question 1 - Number of people eating?"
   ]
  },
  {
   "cell_type": "code",
   "execution_count": 1,
   "metadata": {},
   "outputs": [
    {
     "name": "stdout",
     "output_type": "stream",
     "text": [
      "['Person\\tVegetarian\\n', 'Fred\\tNo\\n', 'Jamie\\tNo\\n', 'Shelly\\tYes\\n', 'Eileen\\tNo\\n', 'Willard\\tYes\\n', 'Mike\\tSometimes\\n', 'Anna\\tNo\\n', 'Marie\\tYes\\n', 'Marian\\tSometimes\\n', 'Jessica\\tNo\\n', 'Alan\\tNo\\n', 'Rebecca\\tNo\\n', 'Bonnie\\tNo\\n', 'Mark\\tNo\\n', 'Leslie\\tYes\\n', 'Rachel\\tNo\\n', 'Olivia\\tNo\\n', 'Chelsea\\tNo\\n']\n"
     ]
    }
   ],
   "source": [
    "with open('guest_list.txt') as file_object:\n",
    "    guests=file_object.readlines()\n",
    "    #open the guest_list text file\n",
    "    \n",
    "print(guests)\n",
    "#display the contents of guest_list text file"
   ]
  },
  {
   "cell_type": "code",
   "execution_count": 3,
   "metadata": {},
   "outputs": [],
   "source": [
    "guest_name = []\n",
    "guest_response = []\n",
    "#create empty lists\n",
    "\n",
    "for guest in guests:\n",
    "    #iterate through each element\n",
    "    stripped_line = guest.rstrip()\n",
    "    #remove new line characters\n",
    "    split_line= stripped_line.split()\n",
    "    #split columns via tab character\n",
    "    guest_name.append(split_line[0])\n",
    "    #append guest name list\n",
    "    #assign to the empty list\n",
    "    guest_response.append(split_line[1])\n",
    "    #append guest response list\n",
    "    #assign to the empty list"
   ]
  },
  {
   "cell_type": "code",
   "execution_count": 4,
   "metadata": {},
   "outputs": [
    {
     "name": "stdout",
     "output_type": "stream",
     "text": [
      "['Person', 'Fred', 'Jamie', 'Shelly', 'Eileen', 'Willard', 'Mike', 'Anna', 'Marie', 'Marian', 'Jessica', 'Alan', 'Rebecca', 'Bonnie', 'Mark', 'Leslie', 'Rachel', 'Olivia', 'Chelsea']\n"
     ]
    }
   ],
   "source": [
    "print(guest_name)\n",
    "#print the guest name list"
   ]
  },
  {
   "cell_type": "code",
   "execution_count": 5,
   "metadata": {},
   "outputs": [
    {
     "name": "stdout",
     "output_type": "stream",
     "text": [
      "['Vegetarian', 'No', 'No', 'Yes', 'No', 'Yes', 'Sometimes', 'No', 'Yes', 'Sometimes', 'No', 'No', 'No', 'No', 'No', 'Yes', 'No', 'No', 'No']\n"
     ]
    }
   ],
   "source": [
    "print(guest_response)\n",
    "#print guest reponse list"
   ]
  },
  {
   "cell_type": "code",
   "execution_count": 7,
   "metadata": {},
   "outputs": [],
   "source": [
    "pro_turkey = []\n",
    "#create an empty list\n",
    "\n",
    "for pro in guest_response:\n",
    "    if pro == 'No' or pro == 'Sometimes':\n",
    "        pro_turkey.append(pro)\n",
    "        #create a conditional that places no and sometimes responses into the empty list\n",
    "        ##this list is for people who will eat turkey"
   ]
  },
  {
   "cell_type": "code",
   "execution_count": 8,
   "metadata": {},
   "outputs": [
    {
     "name": "stdout",
     "output_type": "stream",
     "text": [
      "['No', 'No', 'No', 'Sometimes', 'No', 'Sometimes', 'No', 'No', 'No', 'No', 'No', 'No', 'No', 'No']\n"
     ]
    }
   ],
   "source": [
    "print(pro_turkey)\n",
    "#print the list with people who WILL be eating turkey"
   ]
  },
  {
   "cell_type": "code",
   "execution_count": 9,
   "metadata": {},
   "outputs": [
    {
     "data": {
      "text/plain": [
       "14"
      ]
     },
     "execution_count": 9,
     "metadata": {},
     "output_type": "execute_result"
    }
   ],
   "source": [
    "len(pro_turkey)\n",
    "#return number of people who will eat turkey"
   ]
  },
  {
   "cell_type": "markdown",
   "metadata": {},
   "source": [
    "ANSWER for QUESTION 1:"
   ]
  },
  {
   "cell_type": "code",
   "execution_count": 10,
   "metadata": {},
   "outputs": [
    {
     "name": "stdout",
     "output_type": "stream",
     "text": [
      "There will be 14 people eating turkey at my Thanksgiving dinner.\n"
     ]
    }
   ],
   "source": [
    "print(f\"There will be {len(pro_turkey)} people eating turkey at my Thanksgiving dinner.\")\n",
    "#print the number of people eating at the Thanksgiving dinner"
   ]
  },
  {
   "cell_type": "markdown",
   "metadata": {},
   "source": [
    "## Question 2 - Minimum turkey size required?"
   ]
  },
  {
   "cell_type": "code",
   "execution_count": 11,
   "metadata": {},
   "outputs": [
    {
     "name": "stdout",
     "output_type": "stream",
     "text": [
      "['Max_Guests\\tMin_Pounds\\n', '4\\t5\\n', '6\\t8\\n', '8\\t10\\n', '10\\t13\\n', '12\\t15\\n', '15\\t20\\n', '20\\t25\\n']\n"
     ]
    }
   ],
   "source": [
    "with open('turkey_size.txt') as file_object:\n",
    "    Turkey = file_object.readlines()\n",
    "    #open turkey_size text file\n",
    "    \n",
    "print(Turkey)\n",
    "#display the contents of turkey_size text file"
   ]
  },
  {
   "cell_type": "code",
   "execution_count": 12,
   "metadata": {},
   "outputs": [],
   "source": [
    "max_guests = []\n",
    "turkey_size = []\n",
    "#create empty lists\n",
    "\n",
    "for size in Turkey:\n",
    "    stripped_line = size.rstrip()\n",
    "    #remove new line characters\n",
    "    split_line = stripped_line.split('\\t')\n",
    "    #split columns via tab character\n",
    "    max_guests.append(split_line[0])\n",
    "    #append max_guests list\n",
    "    #assign to the empty list\n",
    "    turkey_size.append(split_line[1])\n",
    "    #append turkey_size list\n",
    "    #assign to the empty list"
   ]
  },
  {
   "cell_type": "code",
   "execution_count": 14,
   "metadata": {},
   "outputs": [
    {
     "name": "stdout",
     "output_type": "stream",
     "text": [
      "['Max_Guests', '4', '6', '8', '10', '12', '15', '20']\n"
     ]
    }
   ],
   "source": [
    "print(max_guests)\n",
    "#print the number of max guests in the max_guests list"
   ]
  },
  {
   "cell_type": "code",
   "execution_count": 15,
   "metadata": {},
   "outputs": [
    {
     "name": "stdout",
     "output_type": "stream",
     "text": [
      "['Min_Pounds', '5', '8', '10', '13', '15', '20', '25']\n"
     ]
    }
   ],
   "source": [
    "print(turkey_size)\n",
    "#print the minimum pounds of turkey in the turkey_size list"
   ]
  },
  {
   "cell_type": "code",
   "execution_count": 16,
   "metadata": {},
   "outputs": [],
   "source": [
    "mini_turkey = turkey_size[1:8]\n",
    "#remove the header from the turkey_size list\n",
    "guest_number = max_guests[1:8]\n",
    "#remove the header from the number of guests list"
   ]
  },
  {
   "cell_type": "code",
   "execution_count": 17,
   "metadata": {},
   "outputs": [
    {
     "name": "stdout",
     "output_type": "stream",
     "text": [
      "['5', '8', '10', '13', '15', '20', '25']\n",
      "['4', '6', '8', '10', '12', '15', '20']\n"
     ]
    }
   ],
   "source": [
    "print(mini_turkey)\n",
    "#print the turkey sizes without the header\n",
    "\n",
    "print(guest_number)\n",
    "#print the guest number without the header"
   ]
  },
  {
   "cell_type": "code",
   "execution_count": 18,
   "metadata": {},
   "outputs": [
    {
     "name": "stdout",
     "output_type": "stream",
     "text": [
      "20\n"
     ]
    }
   ],
   "source": [
    "for integer in range(0,len(mini_turkey)):\n",
    "    if int(guest_number[integer]) > 14 and int(guest_number[integer]) < 16:\n",
    "        print(mini_turkey[integer])\n",
    "        \n",
    "#create a conditional that prints the weight of the turkey that is required\n",
    "##has to be greater than 14 people, but less than 16 people"
   ]
  },
  {
   "cell_type": "markdown",
   "metadata": {},
   "source": [
    "ANSWER for QUESTION 2:"
   ]
  },
  {
   "cell_type": "code",
   "execution_count": 20,
   "metadata": {},
   "outputs": [
    {
     "name": "stdout",
     "output_type": "stream",
     "text": [
      "The minimum size turkey required for my Thanksgiving dinner is 20 pounds\n"
     ]
    }
   ],
   "source": [
    "print(f\"The minimum size turkey required for my Thanksgiving dinner is 20 pounds\")\n",
    "#print the minimum size turkey required for this Thanksgiving dinner"
   ]
  },
  {
   "cell_type": "markdown",
   "metadata": {},
   "source": [
    "## Question 3 - RSVP update on list"
   ]
  },
  {
   "cell_type": "code",
   "execution_count": 30,
   "metadata": {},
   "outputs": [
    {
     "name": "stdout",
     "output_type": "stream",
     "text": [
      "['Person\\tVegetarian\\n', 'Fred\\tNo\\n', 'Jamie\\tNo\\n', 'Shelly\\tYes\\n', 'Eileen\\tNo\\n', 'Willard\\tYes\\n', 'Mike\\tSometimes\\n', 'Anna\\tNo\\n', 'Marie\\tYes\\n', 'Marian\\tSometimes\\n', 'Jessica\\tNo\\n', 'Alan\\tNo\\n', 'Rebecca\\tNo\\n', 'Bonnie\\tNo\\n', 'Mark\\tNo\\n', 'Leslie\\tYes\\n', 'Rachel\\tNo\\n', 'Olivia\\tNo\\n', 'Chelsea\\tNo\\n', 'Larry\\tNo\\n', 'Moe\\tYes\\n', 'Curly\\tSometimes\\n']\n"
     ]
    }
   ],
   "source": [
    "with open('guest_list.txt') as file_object:\n",
    "    guests=file_object.readlines()\n",
    "    #open guest_list text file\n",
    "    \n",
    "guests.append('Larry\\tNo\\n')\n",
    "#add Larry and their turkey preferences to guest list\n",
    "guests.append('Moe\\tYes\\n')\n",
    "#add Moe and their turkey preferences to guest list\n",
    "guests.append('Curly\\tSometimes\\n')\n",
    "#add Curly and their turkey preferences to the guest list\n",
    "    \n",
    "print(guests)\n",
    "#display the added people on the guest list"
   ]
  },
  {
   "cell_type": "code",
   "execution_count": 37,
   "metadata": {},
   "outputs": [],
   "source": [
    "guest_name = []\n",
    "guest_response = []\n",
    "#create empty lists for the updated people and their turkey preferences\n",
    "\n",
    "for guest in guests:\n",
    "    stripped_line = guest.rstrip()\n",
    "    #remove new line characters\n",
    "    split_line = stripped_line.split()\n",
    "    #split columns via tab character\n",
    "    guest_name.append(split_line[0])\n",
    "    #append the updated guest names to the empty list\n",
    "    guest_response.append(split_line[1])\n",
    "    #append the updated guest responses to the empty list"
   ]
  },
  {
   "cell_type": "code",
   "execution_count": 39,
   "metadata": {},
   "outputs": [
    {
     "name": "stdout",
     "output_type": "stream",
     "text": [
      "['Person', 'Fred', 'Jamie', 'Shelly', 'Eileen', 'Willard', 'Mike', 'Anna', 'Marie', 'Marian', 'Jessica', 'Alan', 'Rebecca', 'Bonnie', 'Mark', 'Leslie', 'Rachel', 'Olivia', 'Chelsea', 'Larry', 'Moe', 'Curly']\n"
     ]
    }
   ],
   "source": [
    "print(guest_name)\n",
    "#print the updated guest names"
   ]
  },
  {
   "cell_type": "code",
   "execution_count": 40,
   "metadata": {},
   "outputs": [
    {
     "name": "stdout",
     "output_type": "stream",
     "text": [
      "['Vegetarian', 'No', 'No', 'Yes', 'No', 'Yes', 'Sometimes', 'No', 'Yes', 'Sometimes', 'No', 'No', 'No', 'No', 'No', 'Yes', 'No', 'No', 'No', 'No', 'Yes', 'Sometimes']\n"
     ]
    }
   ],
   "source": [
    "print(guest_response)\n",
    "#print the updated guest responses"
   ]
  },
  {
   "cell_type": "code",
   "execution_count": 41,
   "metadata": {},
   "outputs": [
    {
     "name": "stdout",
     "output_type": "stream",
     "text": [
      "['No', 'No', 'No', 'Sometimes', 'No', 'Sometimes', 'No', 'No', 'No', 'No', 'No', 'No', 'No', 'No', 'No', 'Sometimes']\n"
     ]
    }
   ],
   "source": [
    "pro_turkey = []\n",
    "#empty list for people who WILL want turkey\n",
    "\n",
    "for pro in guest_response:\n",
    "    if pro == 'No' or pro == 'Sometimes':\n",
    "        pro_turkey.append(pro)\n",
    "    #for people who want turkey, will be added to the list turkey lovers\n",
    "    \n",
    "    \n",
    "print(pro_turkey)\n",
    "#print the responses of people who are pro turkey"
   ]
  },
  {
   "cell_type": "code",
   "execution_count": 42,
   "metadata": {},
   "outputs": [
    {
     "data": {
      "text/plain": [
       "16"
      ]
     },
     "execution_count": 42,
     "metadata": {},
     "output_type": "execute_result"
    }
   ],
   "source": [
    "len(pro_turkey)\n",
    "#count the number on people on the pro turkey list"
   ]
  },
  {
   "cell_type": "markdown",
   "metadata": {},
   "source": [
    "ANSWER for QUESTION 3A:"
   ]
  },
  {
   "cell_type": "code",
   "execution_count": 46,
   "metadata": {},
   "outputs": [
    {
     "name": "stdout",
     "output_type": "stream",
     "text": [
      "There are now 16 people who want to eat turkey at my Thanksgiving dinner.\n"
     ]
    }
   ],
   "source": [
    "print(f\"There are now {len(pro_turkey)} people who want to eat turkey at my Thanksgiving dinner.\")\n",
    "#print the updated number of people who will want turkey at the Thanksgiving dinner"
   ]
  },
  {
   "cell_type": "code",
   "execution_count": 47,
   "metadata": {},
   "outputs": [
    {
     "name": "stdout",
     "output_type": "stream",
     "text": [
      "25\n"
     ]
    }
   ],
   "source": [
    "for integer in range(0,len(mini_turkey)):\n",
    "    if int(guest_number[integer]) > 16:\n",
    "          print(mini_turkey[integer])\n",
    "            \n",
    "#create a conditional that determines the minimum required weight of the turkey\n",
    "##needed for 16 or more people"
   ]
  },
  {
   "cell_type": "markdown",
   "metadata": {},
   "source": [
    "ANSWER for QUESTION 3B:"
   ]
  },
  {
   "cell_type": "code",
   "execution_count": 48,
   "metadata": {},
   "outputs": [
    {
     "name": "stdout",
     "output_type": "stream",
     "text": [
      "The minimum turkey size I now need to buy is 25 pounds\n"
     ]
    }
   ],
   "source": [
    "print(f\"The minimum turkey size I now need to buy is 25 pounds\")\n",
    "#print the updated minimum turkey size required for this Thanksgiving dinner"
   ]
  }
 ],
 "metadata": {
  "kernelspec": {
   "display_name": "Python 3",
   "language": "python",
   "name": "python3"
  },
  "language_info": {
   "codemirror_mode": {
    "name": "ipython",
    "version": 3
   },
   "file_extension": ".py",
   "mimetype": "text/x-python",
   "name": "python",
   "nbconvert_exporter": "python",
   "pygments_lexer": "ipython3",
   "version": "3.8.3"
  }
 },
 "nbformat": 4,
 "nbformat_minor": 4
}
